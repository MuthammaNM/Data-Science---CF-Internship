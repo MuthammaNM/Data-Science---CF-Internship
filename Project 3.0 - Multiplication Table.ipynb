{
 "cells": [
  {
   "cell_type": "markdown",
   "id": "7f376e8a",
   "metadata": {},
   "source": [
    "# Multiplication Table"
   ]
  },
  {
   "cell_type": "code",
   "execution_count": 3,
   "id": "3fbf0df3",
   "metadata": {},
   "outputs": [
    {
     "name": "stdout",
     "output_type": "stream",
     "text": [
      "Enter and number: 56\n",
      "--------------------\n",
      "Multiplication table of 56\n",
      "56 * 1 = 56\n",
      "56 * 2 = 112\n",
      "56 * 3 = 168\n",
      "56 * 4 = 224\n",
      "56 * 5 = 280\n",
      "56 * 6 = 336\n",
      "56 * 7 = 392\n",
      "56 * 8 = 448\n",
      "56 * 9 = 504\n",
      "56 * 10 = 560\n",
      "56 * 11 = 616\n",
      "56 * 12 = 672\n",
      "56 * 13 = 728\n",
      "56 * 14 = 784\n",
      "56 * 15 = 840\n",
      "56 * 16 = 896\n",
      "56 * 17 = 952\n",
      "56 * 18 = 1008\n",
      "56 * 19 = 1064\n"
     ]
    }
   ],
   "source": [
    "Value=int(input(\"Enter and number: \"))\n",
    "i=1\n",
    "print(\"-\"*20)\n",
    "print(\"Multiplication table of {Value}\".format(Value=Value))\n",
    "while(i<20):\n",
    "    print(Value,\"*\",i,\"=\",Value*i)\n",
    "    i=i+1\n"
   ]
  }
 ],
 "metadata": {
  "kernelspec": {
   "display_name": "Python 3",
   "language": "python",
   "name": "python3"
  },
  "language_info": {
   "codemirror_mode": {
    "name": "ipython",
    "version": 3
   },
   "file_extension": ".py",
   "mimetype": "text/x-python",
   "name": "python",
   "nbconvert_exporter": "python",
   "pygments_lexer": "ipython3",
   "version": "3.8.8"
  }
 },
 "nbformat": 4,
 "nbformat_minor": 5
}
