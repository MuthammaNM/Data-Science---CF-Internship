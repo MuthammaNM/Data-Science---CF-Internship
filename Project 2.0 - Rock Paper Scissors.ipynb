{
 "cells": [
  {
   "cell_type": "markdown",
   "id": "1da0297e",
   "metadata": {},
   "source": [
    "# Rock Paper Scissor"
   ]
  },
  {
   "cell_type": "markdown",
   "id": "d96547eb",
   "metadata": {},
   "source": [
    "Game Rules : Rock smashes Scissors , Paper covers Rock , Scissors cuts Paper."
   ]
  },
  {
   "cell_type": "code",
   "execution_count": 12,
   "id": "be99c95f",
   "metadata": {},
   "outputs": [
    {
     "name": "stdout",
     "output_type": "stream",
     "text": [
      "Enter your choice(rock,paper scissors):    Paper\n",
      "Enter your choice(rock,paper scissors):    Rock\n",
      "\n",
      "You chose Paper,your friend chose Rock\n"
     ]
    }
   ],
   "source": [
    "user1 = str(input(\"Enter your choice(rock,paper scissors):    \"))\n",
    "user2 = str(input(\"Enter your choice(rock,paper scissors):    \"))\n",
    "Possible_outcomes = [\"rock,paper,scissors\"]\n",
    "print(\"\\nYou chose {user1},your friend chose {user2}\".format(user1=user1,user2=user2))"
   ]
  },
  {
   "cell_type": "markdown",
   "id": "12fe2186",
   "metadata": {},
   "source": [
    "# PRINTING Statement"
   ]
  },
  {
   "cell_type": "code",
   "execution_count": 13,
   "id": "155f18cc",
   "metadata": {},
   "outputs": [
    {
     "name": "stdout",
     "output_type": "stream",
     "text": [
      "Paper covers Rock, You Win!!\n"
     ]
    }
   ],
   "source": [
    "if(user1==user2):\n",
    "    print(\"Both player Wins. Its a tie!!!\" )\n",
    "elif(user1 =='Paper'):\n",
    "    if(user2=='Rock'):\n",
    "        print( \"Paper covers Rock, You Win!!\")\n",
    "    else:\n",
    "        print(\"Rock smashes Scissors, You lose!\")\n",
    "elif(user1=='Scissors'):\n",
    "    if(user2=='Paper'):\n",
    "        print(\"Scissore cuts Paper, You Win!!\")\n",
    "    else:\n",
    "        print(\"Rock smashes Scissors, You lose!\")\n",
    "elif(user1=='Rock'):\n",
    "    if(user2=='Scissors'):\n",
    "        print(\"Rock smashes Scissore,You Win!!\")\n",
    "    else:\n",
    "        print(\"Paper covers Rock, You lose!\")\n"
   ]
  }
 ],
 "metadata": {
  "kernelspec": {
   "display_name": "Python 3",
   "language": "python",
   "name": "python3"
  },
  "language_info": {
   "codemirror_mode": {
    "name": "ipython",
    "version": 3
   },
   "file_extension": ".py",
   "mimetype": "text/x-python",
   "name": "python",
   "nbconvert_exporter": "python",
   "pygments_lexer": "ipython3",
   "version": "3.8.8"
  }
 },
 "nbformat": 4,
 "nbformat_minor": 5
}
