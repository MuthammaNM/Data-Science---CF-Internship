{
 "cells": [
  {
   "cell_type": "markdown",
   "id": "ec814da0",
   "metadata": {},
   "source": [
    "# Student portfolio"
   ]
  },
  {
   "cell_type": "markdown",
   "id": "6b78a3ef",
   "metadata": {},
   "source": [
    "Defining variables"
   ]
  },
  {
   "cell_type": "code",
   "execution_count": 1,
   "id": "bb75476c",
   "metadata": {},
   "outputs": [
    {
     "name": "stdout",
     "output_type": "stream",
     "text": [
      "Name : Oliver\n",
      "Class : 10\n",
      "Division : E\n",
      "Roll No. : 25\n",
      "Enter Subject 1 : Math\n",
      "Enter Subject 2 : Science\n",
      "Enter Subject 3 : English\n",
      "Enter percentage : 87.20\n"
     ]
    }
   ],
   "source": [
    "Name = str(input(\"Name : \"))\n",
    "Std = int(input(\"Class : \"))\n",
    "Division = str(input(\"Division : \"))\n",
    "RollNumber = int(input(\"Roll No. : \"))\n",
    "Subject1 = str(input(\"Enter Subject 1 : \"))\n",
    "Subject2 = str(input(\"Enter Subject 2 : \"))\n",
    "Subject3 = str(input(\"Enter Subject 3 : \"))\n",
    "Percentage = float(input(\"Enter percentage : \"))"
   ]
  },
  {
   "cell_type": "markdown",
   "id": "d9912dfb",
   "metadata": {},
   "source": [
    "# Printing Portfolio"
   ]
  },
  {
   "cell_type": "code",
   "execution_count": 5,
   "id": "c3fe5e32",
   "metadata": {},
   "outputs": [
    {
     "name": "stdout",
     "output_type": "stream",
     "text": [
      "Student Portfolio\n",
      "--------------------\n",
      "Name: OLIVER\n",
      "Class: 10\n",
      "Division: E\n",
      "Roll No: 25\n",
      "\n",
      "Subjects Enrolled\n",
      "--------------------\n",
      "Subject 1: MATH\n",
      "Subject 2: SCIENCE\n",
      "Subject 3: ENGLISH\n",
      "\n",
      "Marks obtained\n",
      "--------------------\n",
      "Percentage Scored by Oliver\n",
      "87.2%\n",
      "-----END-----\n"
     ]
    }
   ],
   "source": [
    "print(\"Student Portfolio\")\n",
    "print(\"-\"*20)\n",
    "print(\"Name: \"+ str(Name.upper()))\n",
    "print(\"Class: \" + str(Std))\n",
    "print(\"Division: \" + Division)\n",
    "print(\"Roll No: \" + str(RollNumber)+\"\\n\")\n",
    "print(\"Subjects Enrolled\")\n",
    "print(\"-\"*20)\n",
    "print(\"Subject 1: \" + Subject1.upper())\n",
    "print(\"Subject 2: \" + Subject2.upper())\n",
    "print(\"Subject 3: \" + Subject3.upper() + \"\\n\")\n",
    "print(\"Marks obtained\")\n",
    "print(\"-\"*20)\n",
    "print(\"Percentage Scored by Oliver\")\n",
    "print(str(Percentage)+\"%\")\n",
    "print(\"-----END-----\")"
   ]
  }
 ],
 "metadata": {
  "kernelspec": {
   "display_name": "Python 3",
   "language": "python",
   "name": "python3"
  },
  "language_info": {
   "codemirror_mode": {
    "name": "ipython",
    "version": 3
   },
   "file_extension": ".py",
   "mimetype": "text/x-python",
   "name": "python",
   "nbconvert_exporter": "python",
   "pygments_lexer": "ipython3",
   "version": "3.8.8"
  }
 },
 "nbformat": 4,
 "nbformat_minor": 5
}
